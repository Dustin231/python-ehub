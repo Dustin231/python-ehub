{
 "cells": [
  {
   "cell_type": "code",
   "execution_count": 1,
   "metadata": {},
   "outputs": [],
   "source": [
    "# SET PATHS\n",
    "\n",
    "# set the input data file location (where the file input_data.xlsx is stored)\n",
    "input_path='C:/Users/boa/Documents/Repositories_Github/python-ehub/cases/hslu_exercises/input_data.xlsx'\n",
    "\n",
    "# set the results location (where the results will be saved)\n",
    "results_path = 'C:/Users/boa/Documents/Repositories_Github/python-ehub/results/hslu_exercises/'\n"
   ]
  },
  {
   "cell_type": "code",
   "execution_count": 2,
   "metadata": {},
   "outputs": [
    {
     "name": "stderr",
     "output_type": "stream",
     "text": [
      "C:\\Users\\boa\\AppData\\Local\\Continuum\\anaconda3\\lib\\site-packages\\pandas\\util\\_decorators.py:188: FutureWarning: The `sheetname` keyword is deprecated, use `sheet_name` instead\n",
      "  return func(*args, **kwargs)\n"
     ]
    },
    {
     "name": "stdout",
     "output_type": "stream",
     "text": [
      "Generating model sets...\n",
      "Generating model variables...\n",
      "Generating model parameters...\n"
     ]
    },
    {
     "name": "stderr",
     "output_type": "stream",
     "text": [
      "C:\\Users\\boa\\Documents\\Repositories_Github\\python-ehub\\code\\v2.0\\mod_params.py:45: FutureWarning: \n",
      "Panel is deprecated and will be removed in a future version.\n",
      "The recommended way to represent these types of 3-dimensional data are with a MultiIndex on a DataFrame, via the Panel.to_frame() method\n",
      "Alternatively, you can use the xarray package http://xarray.pydata.org/en/stable/.\n",
      "Pandas provides a `.to_xarray()` method to help automate this conversion.\n",
      "\n",
      "  maxS_dict, minS_dict = data.StgMaxMinCapInit()\n",
      "C:\\Users\\boa\\Documents\\Repositories_Github\\python-ehub\\code\\v2.0\\mod_params.py:79: FutureWarning: \n",
      "Panel is deprecated and will be removed in a future version.\n",
      "The recommended way to represent these types of 3-dimensional data are with a MultiIndex on a DataFrame, via the Panel.to_frame() method\n",
      "Alternatively, you can use the xarray package http://xarray.pydata.org/en/stable/.\n",
      "Pandas provides a `.to_xarray()` method to help automate this conversion.\n",
      "\n",
      "  model.loads = Param(model.hubs, model.Time, model.EC, initialize=data.DemandInit()) # demands\n"
     ]
    },
    {
     "name": "stdout",
     "output_type": "stream",
     "text": [
      "Generating model constraints...\n",
      "- System constraints\n",
      "- General technology constraints\n",
      "- Specific technology constraints\n",
      "- Network constraints\n",
      "- Storage constraints\n",
      "- Carbon constraints\n",
      "- Cost constraints\n",
      "Generating custom constraints/model specifications...\n",
      "Defining objective...\n",
      "Saving model parameter values to text file...\n",
      "Preprocessing...\n",
      "Running solver...\n",
      "GLPSOL: GLPK LP/MIP Solver, v4.65\n",
      "Parameter(s) specified in the command line:\n",
      " --write C:\\Users\\boa\\AppData\\Local\\Temp\\tmpxw8mi8ct.glpk.raw --wglp C:\\Users\\boa\\AppData\\Local\\Temp\\tmpi3v166na.glpk.glp\n",
      " --cpxlp C:\\Users\\boa\\AppData\\Local\\Temp\\tmp83mfutzf.pyomo.lp\n",
      "Reading problem data from 'C:\\Users\\boa\\AppData\\Local\\Temp\\tmp83mfutzf.pyomo.lp'...\n",
      "350442 rows, 236541 columns, 911079 non-zeros\n",
      "2198960 lines were read\n",
      "Writing problem data to 'C:\\Users\\boa\\AppData\\Local\\Temp\\tmpi3v166na.glpk.glp'...\n",
      "1726221 lines were written\n",
      "GLPK Simplex Optimizer, v4.65\n",
      "350442 rows, 236541 columns, 911079 non-zeros\n",
      "Preprocessing...\n",
      "52561 rows, 70081 columns, 131402 non-zeros\n",
      "Scaling...\n",
      " A: min|aij| =  3.000e-03  max|aij| =  3.200e+00  ratio =  1.067e+03\n",
      "GM: min|aij| =  8.408e-01  max|aij| =  1.189e+00  ratio =  1.415e+00\n",
      "EQ: min|aij| =  7.308e-01  max|aij| =  1.000e+00  ratio =  1.368e+00\n",
      "Constructing initial basis...\n",
      "Size of triangular part is 52561\n",
      "      0: obj =   6.893967676e+05 inf =   1.076e+07 (9703)\n",
      "   2800: obj =   3.138056268e+07 inf =   8.458e+06 (7918) 27\n",
      "   5450: obj =   3.759748649e+07 inf =   8.129e+06 (7796) 26\n",
      "Perturbing LP to avoid stalling [6806]...\n",
      "   7970: obj =   4.546667264e+07 inf =   7.713e+06 (7653) 25\n",
      "  10740: obj =   7.680367879e+07 inf =   5.230e+06 (5413) 17\n",
      "  14041: obj =   7.730221622e+07 inf =   1.946e+06 (2112)\n",
      "  16153: obj =   7.759758304e+07 inf =   0.000e+00 (0)\n",
      "* 18875: obj =   6.066706134e+07 inf =   0.000e+00 (13340) 27\n",
      "* 21576: obj =   5.836287661e+07 inf =   1.251e-12 (10638) 26\n",
      "* 24449: obj =   1.898669661e+07 inf =   1.097e-11 (8151) 20\n",
      "* 27505: obj =   2.341716306e+06 inf =   1.592e-12 (5162) 5\n",
      "* 30431: obj =   2.332065388e+06 inf =   1.592e-12 (2217)\n",
      "* 32870: obj =   2.242075324e+06 inf =   5.542e-13 (127) 9\n",
      "Removing LP perturbation [33528]...\n",
      "* 33528: obj =   2.218174463e+06 inf =   0.000e+00 (0) 7\n",
      "OPTIMAL LP SOLUTION FOUND\n",
      "Time used:   60.3 secs\n",
      "Memory used: 291.3 Mb (305422896 bytes)\n",
      "Writing basic solution to 'C:\\Users\\boa\\AppData\\Local\\Temp\\tmpxw8mi8ct.glpk.raw'...\n",
      "586992 lines were written\n",
      "Saving results to text file...\n",
      " \n",
      "generating results plots\n"
     ]
    },
    {
     "name": "stderr",
     "output_type": "stream",
     "text": [
      "C:\\Users\\boa\\AppData\\Local\\Continuum\\anaconda3\\lib\\site-packages\\pandas\\util\\_decorators.py:188: FutureWarning: the 'skip_footer' keyword is deprecated, use 'skipfooter' instead\n",
      "  return func(*args, **kwargs)\n"
     ]
    },
    {
     "name": "stdout",
     "output_type": "stream",
     "text": [
      " \n",
      "FINISHED!\n"
     ]
    }
   ],
   "source": [
    "# EXECUTE MODEL\n",
    "\n",
    "# set the experiment name\n",
    "experiment = 'experiment1'\n",
    "\n",
    "from run_mod import *\n",
    "from gen_plots2 import *\n",
    "\n",
    "result_file = results_path + experiment + '/results.txt'\n",
    "param_file = results_path + experiment + '/params.txt'\n",
    "\n",
    "plot_path = results_path + experiment + '/'\n",
    "if not os.path.exists(plot_path):\n",
    "    os.makedirs(plot_path)\n",
    "\n",
    "run_model(input_path, param_file, result_file) # defined in run_mod.py\n",
    "\n",
    "generate_plots2(input_path, results_path, param_file, result_file, experiment) #defined in gen_plots.py\n"
   ]
  }
 ],
 "metadata": {
  "kernelspec": {
   "display_name": "Python 3",
   "language": "python",
   "name": "python3"
  },
  "language_info": {
   "codemirror_mode": {
    "name": "ipython",
    "version": 3
   },
   "file_extension": ".py",
   "mimetype": "text/x-python",
   "name": "python",
   "nbconvert_exporter": "python",
   "pygments_lexer": "ipython3",
   "version": "3.7.3"
  }
 },
 "nbformat": 4,
 "nbformat_minor": 2
}
