{
 "cells": [
  {
   "cell_type": "code",
   "execution_count": 1,
   "metadata": {
    "collapsed": true
   },
   "outputs": [],
   "source": [
    "# SET PATHS\n",
    "\n",
    "# set the input data file location\n",
    "input_path=r'C:\\Users\\boa\\Documents\\Repositories_Github\\python-ehub\\cases\\hslu_exercises\\input_data.xlsx'\n",
    "\n",
    "# set the results location\n",
    "results_path = 'C:/Users/boa/Documents/Repositories_Github/python-ehub/results/hslu_exercises/'\n"
   ]
  },
  {
   "cell_type": "code",
   "execution_count": 2,
   "metadata": {},
   "outputs": [
    {
     "name": "stdout",
     "output_type": "stream",
     "text": [
      "Generating model sets...\n",
      "Generating model variables...\n",
      "Generating model parameters...\n",
      "Generating model constraints...\n",
      "- System constraints\n",
      "- General technology constraints\n",
      "- Specific technology constraints\n",
      "- Network constraints\n",
      "- Storage constraints\n",
      "- Carbon constraints\n",
      "- Cost constraints\n",
      "Generating custom constraints/model specifications...\n",
      "Defining objective...\n",
      "Saving model parameter values to text file...\n",
      "Preprocessing...\n",
      "Running solver...\n",
      "GLPSOL: GLPK LP/MIP Solver, v4.65\n",
      "Parameter(s) specified in the command line:\n",
      " --write C:\\Users\\boa\\AppData\\Local\\Temp\\tmp0pmgc6gf.glpk.raw --wglp C:\\Users\\boa\\AppData\\Local\\Temp\\tmp80qppg4s.glpk.glp\n",
      " --cpxlp C:\\Users\\boa\\AppData\\Local\\Temp\\tmp_0rg4rb3.pyomo.lp\n",
      "Reading problem data from 'C:\\Users\\boa\\AppData\\Local\\Temp\\tmp_0rg4rb3.pyomo.lp'...\n",
      "525653 rows, 306628 columns, 1270253 non-zeros\n",
      "3153855 lines were read\n",
      "Writing problem data to 'C:\\Users\\boa\\AppData\\Local\\Temp\\tmp80qppg4s.glpk.glp'...\n",
      "2505900 lines were written\n",
      "GLPK Simplex Optimizer, v4.65\n",
      "525653 rows, 306628 columns, 1270253 non-zeros\n",
      "Preprocessing...\n",
      "61322 rows, 87602 columns, 166444 non-zeros\n",
      "Scaling...\n",
      " A: min|aij| =  3.000e-03  max|aij| =  3.200e+00  ratio =  1.067e+03\n",
      "GM: min|aij| =  8.338e-01  max|aij| =  1.199e+00  ratio =  1.438e+00\n",
      "EQ: min|aij| =  6.952e-01  max|aij| =  1.000e+00  ratio =  1.438e+00\n",
      "Constructing initial basis...\n",
      "Size of triangular part is 61322\n",
      "      0: obj =   6.893967676e+05 inf =   1.020e+07 (9703)\n",
      "   2215: obj =   2.445675376e+07 inf =   8.308e+06 (8020) 21\n",
      "   4429: obj =   3.912583906e+07 inf =   7.570e+06 (7493) 22\n",
      "   6620: obj =   4.339080265e+07 inf =   7.353e+06 (7320) 22\n",
      "Perturbing LP to avoid stalling [7835]...\n",
      "   8728: obj =   4.901882986e+07 inf =   7.068e+06 (7189) 21\n",
      "  10941: obj =   7.457476907e+07 inf =   5.503e+06 (5986) 18\n",
      "  13368: obj =   7.681227192e+07 inf =   3.542e+06 (3785) 4\n",
      "  15499: obj =   7.765840072e+07 inf =   1.594e+06 (1720) 1\n",
      "  17266: obj =   7.841122813e+07 inf =   0.000e+00 (0) 1\n",
      "* 19226: obj =   6.599244423e+07 inf =   0.000e+00 (15320) 20\n",
      "* 21169: obj =   6.340240544e+07 inf =   0.000e+00 (13379) 19\n",
      "* 23144: obj =   6.041143810e+07 inf =   6.821e-13 (11406) 19\n",
      "* 25025: obj =   3.489863960e+07 inf =   1.387e-11 (10665) 17\n",
      "* 26958: obj =   9.776410622e+06 inf =   4.547e-13 (8919) 14\n",
      "* 28860: obj =   2.350744158e+06 inf =   2.274e-13 (7063) 4\n",
      "* 29952: obj =   2.336806601e+06 inf =   1.009e-12 (5994)\n",
      "* 31687: obj =   2.334032926e+06 inf =   1.009e-12 (4251)\n",
      "* 34067: obj =   2.275995103e+06 inf =   5.684e-14 (1783) 1\n",
      "* 36177: obj =   2.218238772e+06 inf =   0.000e+00 (1118) 21\n",
      "Removing LP perturbation [37924]...\n",
      "* 37924: obj =   2.218174463e+06 inf =   0.000e+00 (0) 17\n",
      "OPTIMAL LP SOLUTION FOUND\n",
      "Time used:   94.1 secs\n",
      "Memory used: 408.2 Mb (428039740 bytes)\n",
      "Writing basic solution to 'C:\\Users\\boa\\AppData\\Local\\Temp\\tmp0pmgc6gf.glpk.raw'...\n",
      "832290 lines were written\n",
      "Saving results to text file...\n",
      " \n",
      "Key results:\n",
      "Total cost (CHF) = 2218174\n",
      "Total income from exports (CHF) = 0\n",
      "Total carbon emissions (kg CO2-eq) = 2209375\n",
      " \n",
      "Generating plots...\n",
      "Saving plots to: C:/Users/boa/Documents/Repositories_Github/python-ehub/results/hslu_exercises/experiment1\n"
     ]
    },
    {
     "ename": "AttributeError",
     "evalue": "'float' object has no attribute 'rint'",
     "output_type": "error",
     "traceback": [
      "\u001b[1;31m---------------------------------------------------------------------------\u001b[0m",
      "\u001b[1;31mAttributeError\u001b[0m                            Traceback (most recent call last)",
      "\u001b[1;32m<ipython-input-2-3f3ac7451374>\u001b[0m in \u001b[0;36m<module>\u001b[1;34m()\u001b[0m\n\u001b[0;32m     13\u001b[0m \u001b[0mrun_model\u001b[0m\u001b[1;33m(\u001b[0m\u001b[0minput_path\u001b[0m\u001b[1;33m,\u001b[0m \u001b[0mparam_file\u001b[0m\u001b[1;33m,\u001b[0m \u001b[0mresult_file\u001b[0m\u001b[1;33m)\u001b[0m \u001b[1;31m# defined in run_mod.py\u001b[0m\u001b[1;33m\u001b[0m\u001b[1;33m\u001b[0m\u001b[0m\n\u001b[0;32m     14\u001b[0m \u001b[1;33m\u001b[0m\u001b[0m\n\u001b[1;32m---> 15\u001b[1;33m \u001b[0mgenerate_plots\u001b[0m\u001b[1;33m(\u001b[0m\u001b[0minput_path\u001b[0m\u001b[1;33m,\u001b[0m \u001b[0mparam_file\u001b[0m\u001b[1;33m,\u001b[0m \u001b[0mresult_file\u001b[0m\u001b[1;33m,\u001b[0m \u001b[0mexperiment\u001b[0m\u001b[1;33m,\u001b[0m \u001b[0mvisualizations_directory\u001b[0m\u001b[1;33m)\u001b[0m \u001b[1;31m#defined in gen_plots.py\u001b[0m\u001b[1;33m\u001b[0m\u001b[1;33m\u001b[0m\u001b[0m\n\u001b[0m",
      "\u001b[1;32mC:\\Users\\boa\\Documents\\Repositories_Github\\python-ehub\\code\\v2.0\\gen_plots.py\u001b[0m in \u001b[0;36mgenerate_plots\u001b[1;34m(input_path, param_file, result_file, experiment, visualizations_directory)\u001b[0m\n\u001b[0;32m    154\u001b[0m     \u001b[0mplt\u001b[0m\u001b[1;33m.\u001b[0m\u001b[0mclose\u001b[0m\u001b[1;33m(\u001b[0m\u001b[1;33m)\u001b[0m\u001b[1;33m\u001b[0m\u001b[1;33m\u001b[0m\u001b[0m\n\u001b[0;32m    155\u001b[0m     \u001b[0mep\u001b[0m \u001b[1;33m=\u001b[0m \u001b[0melectricity_production\u001b[0m\u001b[1;33m.\u001b[0m\u001b[0mcopy\u001b[0m\u001b[1;33m(\u001b[0m\u001b[0mdeep\u001b[0m\u001b[1;33m=\u001b[0m\u001b[1;32mTrue\u001b[0m\u001b[1;33m)\u001b[0m\u001b[1;33m\u001b[0m\u001b[1;33m\u001b[0m\u001b[0m\n\u001b[1;32m--> 156\u001b[1;33m     \u001b[0mweek\u001b[0m \u001b[1;33m=\u001b[0m \u001b[0mround\u001b[0m\u001b[1;33m(\u001b[0m\u001b[0mep\u001b[0m\u001b[1;33m[\u001b[0m\u001b[1;34m'tm'\u001b[0m\u001b[1;33m]\u001b[0m\u001b[1;33m/\u001b[0m\u001b[1;33m(\u001b[0m\u001b[1;36m24\u001b[0m\u001b[1;33m)\u001b[0m\u001b[1;33m)\u001b[0m\u001b[1;33m\u001b[0m\u001b[1;33m\u001b[0m\u001b[0m\n\u001b[0m\u001b[0;32m    157\u001b[0m     \u001b[0mep\u001b[0m\u001b[1;33m[\u001b[0m\u001b[1;34m'week'\u001b[0m\u001b[1;33m]\u001b[0m \u001b[1;33m=\u001b[0m \u001b[0mweek\u001b[0m\u001b[1;33m\u001b[0m\u001b[1;33m\u001b[0m\u001b[0m\n\u001b[0;32m    158\u001b[0m     \u001b[1;32mdel\u001b[0m \u001b[0mep\u001b[0m\u001b[1;33m[\u001b[0m\u001b[1;34m'tm'\u001b[0m\u001b[1;33m]\u001b[0m\u001b[1;33m\u001b[0m\u001b[1;33m\u001b[0m\u001b[0m\n",
      "\u001b[1;32mC:\\Users\\boa\\AppData\\Local\\Continuum\\Anaconda3\\lib\\site-packages\\pandas\\core\\generic.py\u001b[0m in \u001b[0;36m__round__\u001b[1;34m(self, decimals)\u001b[0m\n\u001b[0;32m    975\u001b[0m \u001b[1;33m\u001b[0m\u001b[0m\n\u001b[0;32m    976\u001b[0m     \u001b[1;32mdef\u001b[0m \u001b[0m__round__\u001b[0m\u001b[1;33m(\u001b[0m\u001b[0mself\u001b[0m\u001b[1;33m,\u001b[0m \u001b[0mdecimals\u001b[0m\u001b[1;33m=\u001b[0m\u001b[1;36m0\u001b[0m\u001b[1;33m)\u001b[0m\u001b[1;33m:\u001b[0m\u001b[1;33m\u001b[0m\u001b[1;33m\u001b[0m\u001b[0m\n\u001b[1;32m--> 977\u001b[1;33m         \u001b[1;32mreturn\u001b[0m \u001b[0mself\u001b[0m\u001b[1;33m.\u001b[0m\u001b[0mround\u001b[0m\u001b[1;33m(\u001b[0m\u001b[0mdecimals\u001b[0m\u001b[1;33m)\u001b[0m\u001b[1;33m\u001b[0m\u001b[1;33m\u001b[0m\u001b[0m\n\u001b[0m\u001b[0;32m    978\u001b[0m \u001b[1;33m\u001b[0m\u001b[0m\n\u001b[0;32m    979\u001b[0m     \u001b[1;31m# ----------------------------------------------------------------------\u001b[0m\u001b[1;33m\u001b[0m\u001b[1;33m\u001b[0m\u001b[1;33m\u001b[0m\u001b[0m\n",
      "\u001b[1;32mC:\\Users\\boa\\AppData\\Local\\Continuum\\Anaconda3\\lib\\site-packages\\pandas\\core\\series.py\u001b[0m in \u001b[0;36mround\u001b[1;34m(self, decimals, *args, **kwargs)\u001b[0m\n\u001b[0;32m   1293\u001b[0m         \"\"\"\n\u001b[0;32m   1294\u001b[0m         \u001b[0mnv\u001b[0m\u001b[1;33m.\u001b[0m\u001b[0mvalidate_round\u001b[0m\u001b[1;33m(\u001b[0m\u001b[0margs\u001b[0m\u001b[1;33m,\u001b[0m \u001b[0mkwargs\u001b[0m\u001b[1;33m)\u001b[0m\u001b[1;33m\u001b[0m\u001b[1;33m\u001b[0m\u001b[0m\n\u001b[1;32m-> 1295\u001b[1;33m         \u001b[0mresult\u001b[0m \u001b[1;33m=\u001b[0m \u001b[0m_values_from_object\u001b[0m\u001b[1;33m(\u001b[0m\u001b[0mself\u001b[0m\u001b[1;33m)\u001b[0m\u001b[1;33m.\u001b[0m\u001b[0mround\u001b[0m\u001b[1;33m(\u001b[0m\u001b[0mdecimals\u001b[0m\u001b[1;33m)\u001b[0m\u001b[1;33m\u001b[0m\u001b[1;33m\u001b[0m\u001b[0m\n\u001b[0m\u001b[0;32m   1296\u001b[0m         \u001b[0mresult\u001b[0m \u001b[1;33m=\u001b[0m \u001b[0mself\u001b[0m\u001b[1;33m.\u001b[0m\u001b[0m_constructor\u001b[0m\u001b[1;33m(\u001b[0m\u001b[0mresult\u001b[0m\u001b[1;33m,\u001b[0m \u001b[0mindex\u001b[0m\u001b[1;33m=\u001b[0m\u001b[0mself\u001b[0m\u001b[1;33m.\u001b[0m\u001b[0mindex\u001b[0m\u001b[1;33m)\u001b[0m\u001b[1;33m.\u001b[0m\u001b[0m__finalize__\u001b[0m\u001b[1;33m(\u001b[0m\u001b[0mself\u001b[0m\u001b[1;33m)\u001b[0m\u001b[1;33m\u001b[0m\u001b[1;33m\u001b[0m\u001b[0m\n\u001b[0;32m   1297\u001b[0m \u001b[1;33m\u001b[0m\u001b[0m\n",
      "\u001b[1;31mAttributeError\u001b[0m: 'float' object has no attribute 'rint'"
     ]
    }
   ],
   "source": [
    "# EXECUTE MODEL\n",
    "\n",
    "# set the experiment name\n",
    "experiment = 'experiment1'\n",
    "\n",
    "from run_mod import *\n",
    "from gen_plots import *\n",
    "\n",
    "result_file = results_path + 'results.txt'\n",
    "param_file = results_path + 'params.txt'\n",
    "visualizations_directory = results_path\n",
    "\n",
    "run_model(input_path, param_file, result_file) # defined in run_mod.py\n",
    "\n",
    "generate_plots(input_path, param_file, result_file, experiment, visualizations_directory) #defined in gen_plots.py\n"
   ]
  }
 ],
 "metadata": {
  "kernelspec": {
   "display_name": "Python 3",
   "language": "python",
   "name": "python3"
  },
  "language_info": {
   "codemirror_mode": {
    "name": "ipython",
    "version": 3
   },
   "file_extension": ".py",
   "mimetype": "text/x-python",
   "name": "python",
   "nbconvert_exporter": "python",
   "pygments_lexer": "ipython3",
   "version": "3.6.8"
  }
 },
 "nbformat": 4,
 "nbformat_minor": 2
}
