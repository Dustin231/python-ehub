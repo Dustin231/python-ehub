{
 "cells": [
  {
   "cell_type": "code",
   "execution_count": 11,
   "metadata": {
    "collapsed": true
   },
   "outputs": [],
   "source": [
    "# SET PATHS\n",
    "\n",
    "# set the input data file location\n",
    "input_path=r'C:\\Users\\boa\\Documents\\Repositories_Github\\python-ehub\\cases\\hslu_exercises\\input_data.xlsx'\n",
    "\n",
    "# set the results location\n",
    "results_path = 'C:/Users/boa/Documents/Repositories_Github/python-ehub/results/hslu_exercises/'\n"
   ]
  },
  {
   "cell_type": "code",
   "execution_count": 14,
   "metadata": {},
   "outputs": [
    {
     "name": "stdout",
     "output_type": "stream",
     "text": [
      "Generating model sets...\n",
      "Generating model variables...\n",
      "Generating model parameters...\n",
      "Generating model constraints...\n",
      "- System constraints\n",
      "- General technology constraints\n",
      "- Specific technology constraints\n",
      "- Network constraints\n",
      "- Storage constraints\n",
      "- Carbon constraints\n",
      "- Cost constraints\n",
      "Generating custom constraints/model specifications...\n",
      "Defining objective...\n",
      "Saving model parameter values to text file...\n",
      "Preprocessing...\n",
      "Running solver...\n",
      "Academic license - for non-commercial use only\n",
      "Changed value of parameter FeasibilityTol to 1e-05\n",
      "   Prev: 1e-06  Min: 1e-09  Max: 0.01  Default: 1e-06\n",
      "No parameters matching 'outlev' found\n",
      "No parameters matching 'iisfind' found\n",
      "Optimize a model with 735901 rows, 516868 columns and 1830901 nonzeros\n",
      "Variable types: 376708 continuous, 140160 integer (140160 binary)\n",
      "Coefficient statistics:\n",
      "  Matrix range     [3e-03, 1e+05]\n",
      "  Objective range  [1e+00, 1e+00]\n",
      "  Bounds range     [1e+00, 1e+00]\n",
      "  RHS range        [1e+00, 4e+07]\n",
      "Presolve removed 674474 rows and 432873 columns\n",
      "Presolve time: 2.54s\n",
      "Presolved: 61427 rows, 83995 columns, 185889 nonzeros\n",
      "Variable types: 70799 continuous, 13196 integer (13196 binary)\n",
      "\n",
      "Root simplex log...\n",
      "\n",
      "Iteration    Objective       Primal Inf.    Dual Inf.      Time\n",
      "       0    1.5686715e+05   8.522969e+06   0.000000e+00      6s\n",
      "   48304    1.8471782e+06   0.000000e+00   0.000000e+00      7s\n",
      "\n",
      "Root relaxation: objective 1.847178e+06, 48304 iterations, 1.92 seconds\n",
      "\n",
      "    Nodes    |    Current Node    |     Objective Bounds      |     Work\n",
      " Expl Unexpl |  Obj  Depth IntInf | Incumbent    BestBd   Gap | It/Node Time\n",
      "\n",
      "*    0     0               0    1847178.1527 1847178.15  0.00%     -    7s\n",
      "\n",
      "Explored 0 nodes (48304 simplex iterations) in 7.61 seconds\n",
      "Thread count was 4 (of 4 available processors)\n",
      "\n",
      "Solution count 1: 1.84718e+06 \n",
      "\n",
      "Optimal solution found (tolerance 1.00e-04)\n",
      "Best objective 1.847178152696e+06, best bound 1.847178152696e+06, gap 0.0000%\n",
      "Saving results to text file...\n",
      " \n",
      "Key results:\n",
      "Total cost (CHF) = 1847178\n",
      "Total income from exports (CHF) = 0\n",
      "Total carbon emissions (kg CO2-eq) = 1934363\n",
      " \n",
      "Generating plots...\n",
      "Saving plots to: C:/Users/boa/Documents/Repositories_Github/python-ehub/results/hslu_exercises/experiment3\n",
      "FINISHED!\n"
     ]
    }
   ],
   "source": [
    "# EXECUTE MODEL\n",
    "\n",
    "# set the experiment name\n",
    "experiment = 'experiment1'\n",
    "\n",
    "from run_mod import *\n",
    "from gen_plots import *\n",
    "\n",
    "result_file = results_path + 'results.txt'\n",
    "param_file = results_path + 'params.txt'\n",
    "visualizations_directory = results_path\n",
    "\n",
    "run_model(input_path, param_file, result_file) # defined in run_mod.py\n",
    "\n",
    "generate_plots(input_path, param_file, result_file, experiment, visualizations_directory) #defined in gen_plots.py\n"
   ]
  }
 ],
 "metadata": {
  "kernelspec": {
   "display_name": "Python 3",
   "language": "python",
   "name": "python3"
  },
  "language_info": {
   "codemirror_mode": {
    "name": "ipython",
    "version": 3
   },
   "file_extension": ".py",
   "mimetype": "text/x-python",
   "name": "python",
   "nbconvert_exporter": "python",
   "pygments_lexer": "ipython3",
   "version": "3.6.1"
  }
 },
 "nbformat": 4,
 "nbformat_minor": 2
}
