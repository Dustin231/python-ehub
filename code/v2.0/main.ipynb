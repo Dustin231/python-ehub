{
 "cells": [
  {
   "cell_type": "code",
   "execution_count": 1,
   "metadata": {
    "collapsed": true
   },
   "outputs": [],
   "source": [
    "# SET PATHS\n",
    "\n",
    "# input data file location\n",
    "input_path=r'C:\\Users\\boa\\Documents\\Repositories_Github\\python-ehub\\cases\\hslu_exercises\\input_data.xlsx'\n",
    "\n",
    "# results saved to text file location\n",
    "result_file = 'C:/Users/boa/Documents/Repositories_Github/python-ehub/results/hslu_exercises/results.txt'\n",
    "\n",
    "# model parameters saved to text file location\n",
    "param_file = 'C:/Users/boa/Documents/Repositories_Github/python-ehub/results/hslu_exercises/params.txt'\n"
   ]
  },
  {
   "cell_type": "code",
   "execution_count": 2,
   "metadata": {
    "collapsed": true
   },
   "outputs": [],
   "source": [
    "# IMPORT SOME STUFF\n",
    "\n",
    "from run_mod import *\n",
    "import numpy as np\n",
    "import pandas as pd\n",
    "import matplotlib.pyplot as plt"
   ]
  },
  {
   "cell_type": "code",
   "execution_count": 29,
   "metadata": {},
   "outputs": [
    {
     "name": "stdout",
     "output_type": "stream",
     "text": [
      "Generating model sets...\n",
      "Generating model variables...\n",
      "Generating model parameters...\n",
      "Generating model constraints...\n",
      "- System constraints\n",
      "- General technology constraints\n",
      "- Specific technology constraints\n",
      "- Network constraints\n",
      "- Storage constraints\n",
      "- Carbon constraints\n",
      "- Cost constraints\n",
      "Generating custom constraints/model specifications...\n",
      "Defining objective...\n",
      "Saving model parameter values to text file...\n",
      "Preprocessing...\n",
      "Running solver...\n",
      "Academic license - for non-commercial use only\n",
      "Changed value of parameter FeasibilityTol to 1e-05\n",
      "   Prev: 1e-06  Min: 1e-09  Max: 0.01  Default: 1e-06\n",
      "No parameters matching 'outlev' found\n",
      "No parameters matching 'iisfind' found\n",
      "Optimize a model with 692102 rows, 473073 columns and 1748010 nonzeros\n",
      "Variable types: 332913 continuous, 140160 integer (140160 binary)\n",
      "Coefficient statistics:\n",
      "  Matrix range     [2e-03, 1e+05]\n",
      "  Objective range  [1e+00, 1e+00]\n",
      "  Bounds range     [1e+00, 1e+00]\n",
      "  RHS range        [1e+00, 1e+05]\n",
      "Presolve removed 571549 rows and 391989 columns (presolve time = 5s) ...\n",
      "Presolve removed 571749 rows and 392189 columns\n",
      "Presolve time: 7.18s\n",
      "Presolved: 120353 rows, 80884 columns, 333667 nonzeros\n",
      "Variable types: 67688 continuous, 13196 integer (13196 binary)\n",
      "\n",
      "Root simplex log...\n",
      "\n",
      "Iteration    Objective       Primal Inf.    Dual Inf.      Time\n",
      "       0    1.5155697e+02   2.356175e+06   0.000000e+00     11s\n",
      "   25157    1.2244864e+06   3.078371e+06   0.000000e+00     15s\n",
      "   51721    2.3260015e+06   1.112125e+06   0.000000e+00     20s\n",
      "   58060    2.4464391e+06   0.000000e+00   0.000000e+00     21s\n",
      "\n",
      "Root relaxation: objective 2.446439e+06, 58060 iterations, 10.07 seconds\n",
      "\n",
      "    Nodes    |    Current Node    |     Objective Bounds      |     Work\n",
      " Expl Unexpl |  Obj  Depth IntInf | Incumbent    BestBd   Gap | It/Node Time\n",
      "\n",
      "*    0     0               0    2446439.0633 2446439.06  0.00%     -   20s\n",
      "\n",
      "Explored 0 nodes (58060 simplex iterations) in 20.94 seconds\n",
      "Thread count was 4 (of 4 available processors)\n",
      "\n",
      "Solution count 1: 2.44644e+06 \n",
      "No other solutions better than 2.44644e+06\n",
      "\n",
      "Optimal solution found (tolerance 1.00e-04)\n",
      "Best objective 2.446439063295e+06, best bound 2.446439063295e+06, gap 0.0000%\n",
      "Saving results to text file...\n"
     ]
    }
   ],
   "source": [
    "# EXECUTE MODEL\n",
    "\n",
    "run_model(input_path, param_file, result_file) # defined in run_mod.py\n"
   ]
  },
  {
   "cell_type": "code",
   "execution_count": 102,
   "metadata": {},
   "outputs": [
    {
     "name": "stdout",
     "output_type": "stream",
     "text": [
      "2446439.0632947534\n",
      "\n",
      "0.0\n",
      "\n",
      "2247160.1028468027\n",
      "\n",
      "{'heat_pump': 0.0, 'gas_boiler': 2710.3851956592835, 'solar_PV': 100.0}\n",
      "{'battery': 0.0, 'hot_water_tank': 0.0}\n",
      "       ec        tech    tm        value\n",
      "0       1   heat_pump     1     0.000000\n",
      "4       1  gas_boiler     1     0.000000\n",
      "8       1    solar_PV     1     0.000000\n",
      "12      1   heat_pump     2     0.000000\n",
      "16      1  gas_boiler     2     0.000000\n",
      "20      1    solar_PV     2     0.000000\n",
      "24      1   heat_pump     3     0.000000\n",
      "28      1  gas_boiler     3     0.000000\n",
      "32      1    solar_PV     3     0.000000\n",
      "36      1   heat_pump     4     0.000000\n",
      "40      1  gas_boiler     4     0.000000\n",
      "44      1    solar_PV     4     0.000000\n",
      "48      1   heat_pump     5     0.000000\n",
      "52      1  gas_boiler     5     0.000000\n",
      "56      1    solar_PV     5     0.000000\n",
      "60      1   heat_pump     6     0.000000\n",
      "64      1  gas_boiler     6     0.000000\n",
      "68      1    solar_PV     6     0.000000\n",
      "72      1   heat_pump     7     0.000000\n",
      "76      1  gas_boiler     7     0.000000\n",
      "80      1    solar_PV     7     0.000000\n",
      "84      1   heat_pump     8     0.000000\n",
      "88      1  gas_boiler     8     0.000000\n",
      "92      1    solar_PV     8     0.000000\n",
      "96      1   heat_pump     9     0.000000\n",
      "100     1  gas_boiler     9     0.000000\n",
      "104     1    solar_PV     9     2.323312\n",
      "108     1   heat_pump    10     0.000000\n",
      "112     1  gas_boiler    10     0.000000\n",
      "116     1    solar_PV    10    12.950513\n",
      "...    ..         ...   ...          ...\n",
      "34920   1        grid  8731  1444.092466\n",
      "34924   1        grid  8732  1313.578050\n",
      "34928   1        grid  8733  1835.003173\n",
      "34932   1        grid  8734  1108.423725\n",
      "34936   1        grid  8735  1128.665056\n",
      "34940   1        grid  8736   893.570429\n",
      "34944   1        grid  8737   668.174774\n",
      "34948   1        grid  8738   498.021084\n",
      "34952   1        grid  8739   470.821795\n",
      "34956   1        grid  8740   444.465895\n",
      "34960   1        grid  8741   464.496379\n",
      "34964   1        grid  8742   386.482916\n",
      "34968   1        grid  8743   423.592023\n",
      "34972   1        grid  8744   424.224564\n",
      "34976   1        grid  8745   891.606950\n",
      "34980   1        grid  8746  1075.587761\n",
      "34984   1        grid  8747   651.476457\n",
      "34988   1        grid  8748   642.573521\n",
      "34992   1        grid  8749   411.984067\n",
      "34996   1        grid  8750   861.490533\n",
      "35000   1        grid  8751   777.492596\n",
      "35004   1        grid  8752   799.943640\n",
      "35008   1        grid  8753  1077.292894\n",
      "35012   1        grid  8754  1261.287944\n",
      "35016   1        grid  8755  1171.677885\n",
      "35020   1        grid  8756  1160.292136\n",
      "35024   1        grid  8757  1087.128158\n",
      "35028   1        grid  8758   984.023878\n",
      "35032   1        grid  8759   862.154197\n",
      "35036   1        grid  8760   619.469071\n",
      "\n",
      "[61320 rows x 4 columns]\n"
     ]
    }
   ],
   "source": [
    "# LOAD RESULTS DATA\n",
    "\n",
    "lines = []\n",
    "with open (result_file, 'rt') as in_file:\n",
    "    for line in in_file:\n",
    "        lines.append(line) \n",
    "        \n",
    "capacities = {}\n",
    "capacities_stor = {}\n",
    "eout = []\n",
    "outstg = []\n",
    "eimp = []\n",
    "for row in lines:\n",
    "    if(row.find(\"TotalCost\") >= 0):\n",
    "        row2 = row.split(sep=\" \")\n",
    "        total_cost = row2[2]\n",
    "        \n",
    "    if(row.find(\"IncomeExp\") >= 0):\n",
    "        row2 = row.split(sep=\" \")\n",
    "        total_income = row2[2]\n",
    "        \n",
    "    if(row.find(\"TotalCarbon\") >= 0):\n",
    "        row2 = row.split(sep=\" \")\n",
    "        total_carbon = row2[2]\n",
    "    \n",
    "    if(row.find(\"CapTech\") >= 0):\n",
    "        row2 = row.split(sep=\" \")\n",
    "        capacities.update({row2[2]: float(row2[3])})\n",
    "        \n",
    "    if(row.find(\"CapStg\") >= 0):\n",
    "        row2 = row.split(sep=\" \")\n",
    "        capacities_stor.update({row2[2]: float(row2[4])})\n",
    "        \n",
    "    if(row.find(\"Eout\") >= 0):\n",
    "        row2 = row.split(sep=\" \")\n",
    "        eout.append(row2[2:6])\n",
    "        \n",
    "    if(row.find(\"OutStg\") >= 0):\n",
    "        row2 = row.split(sep=\" \")\n",
    "        outstg.append(row2[2:6])\n",
    "        \n",
    "    if(row.find(\"Eimp\") >= 0):\n",
    "        row2 = row.split(sep=\" \")\n",
    "        eimp.append(row2[2:5])\n",
    "\n",
    "capacities['heat_pump'] = capacities['1']\n",
    "capacities['gas_boiler'] = capacities['2']\n",
    "capacities['solar_PV'] = capacities['3']\n",
    "if '4' in capacities:\n",
    "    capacities['CHP_unit'] = capacities['4']\n",
    "del capacities['1']\n",
    "del capacities['2']\n",
    "del capacities['3']\n",
    "if '4' in capacities:\n",
    "    del capacities['4']\n",
    "    \n",
    "capacities_stor['battery'] = capacities_stor['1']\n",
    "capacities_stor['hot_water_tank'] = capacities_stor['2']\n",
    "del capacities_stor['1']\n",
    "del capacities_stor['2']\n",
    "\n",
    "eoutdf = pd.DataFrame(eout, columns = ['tm', 'tech', 'ec', 'value'])\n",
    "eoutdf = eoutdf.apply(pd.to_numeric)\n",
    "eoutdf['tech'] = eoutdf['tech'].replace(1, 'heat_pump')\n",
    "eoutdf['tech'] = eoutdf['tech'].replace(2, 'gas_boiler')\n",
    "eoutdf['tech'] = eoutdf['tech'].replace(3, 'solar_PV')\n",
    "eoutdf['tech'] = eoutdf['tech'].replace(4, 'CHP_unit')\n",
    "\n",
    "stgoutdf = pd.DataFrame(eout, columns = ['tm', 'tech', 'ec', 'value'])\n",
    "stgoutdf = stgoutdf.apply(pd.to_numeric)\n",
    "stgoutdf['tech'] = stgoutdf['tech'].replace(1, 'battery')\n",
    "stgoutdf['tech'] = stgoutdf['tech'].replace(2, 'hot_water_tank')\n",
    "eoutdf = eoutdf.append(stgoutdf)\n",
    "\n",
    "eimpdf = pd.DataFrame(eimp, columns = ['tm', 'ec', 'value'])\n",
    "eimpdf = eimpdf.apply(pd.to_numeric)\n",
    "eimpdf['tech']='grid'\n",
    "eoutdf = eoutdf.append(eimpdf)\n",
    "\n",
    "electricity_production = eoutdf.loc[eoutdf['ec'] == 1]\n",
    "heat_production = eoutdf.loc[eoutdf['ec'] == 2]\n",
    "\n",
    "print(total_cost)\n",
    "print(total_income)\n",
    "print(total_carbon)\n",
    "print(capacities)\n",
    "print(capacities_stor)\n",
    "print(electricity_production)\n",
    "        "
   ]
  },
  {
   "cell_type": "code",
   "execution_count": 5,
   "metadata": {},
   "outputs": [
    {
     "name": "stdout",
     "output_type": "stream",
     "text": [
      "TOTAL COST (CHF) = 2446439\n",
      "TOTAL INCOME (CHF) = 0\n",
      "TOTAL CARBON EMISSIONS (kg CO2-eq) = 2247160\n"
     ]
    }
   ],
   "source": [
    "# TOTAL COSTS, INCOME & CARBON EMISSIONS\n",
    "\n",
    "print(\"TOTAL COST (CHF) = \" + str(round(float(total_cost))))\n",
    "print(\"TOTAL INCOME (CHF) = \" + str(round(float(total_income))))\n",
    "print(\"TOTAL CARBON EMISSIONS (kg CO2-eq) = \" + str(round(float(total_carbon))))"
   ]
  },
  {
   "cell_type": "code",
   "execution_count": 108,
   "metadata": {},
   "outputs": [
    {
     "data": {
      "image/png": "[encoded data removed]",
      "text/plain": [
       "<matplotlib.figure.Figure at 0xcfce5f8>"
      ]
     },
     "metadata": {},
     "output_type": "display_data"
    }
   ],
   "source": [
    "# CONVERSION TECHNOLOGY CAPACITIES\n",
    "\n",
    "plt.bar(range(len(capacities)), list(capacities.values()), align='center')\n",
    "plt.xticks(range(len(capacities)), list(capacities.keys()))\n",
    "plt.xlabel('Technology')\n",
    "plt.ylabel('Capacity (kW)')\n",
    "plt.title('Generation technology capacities')\n",
    "plt.show()\n"
   ]
  },
  {
   "cell_type": "code",
   "execution_count": 110,
   "metadata": {},
   "outputs": [
    {
     "data": {
      "image/png": "[encoded data removed]",
      "text/plain": [
       "<matplotlib.figure.Figure at 0xcf705c0>"
      ]
     },
     "metadata": {},
     "output_type": "display_data"
    }
   ],
   "source": [
    "# STORAGE TECHNOLOGY CAPACITIES\n",
    "\n",
    "plt.bar(range(len(capacities_stor)), list(capacities_stor.values()), align='center')\n",
    "plt.xticks(range(len(capacities_stor)), list(capacities_stor.keys()))\n",
    "plt.xlabel('Technology')\n",
    "plt.ylabel('Capacity (kWh)')\n",
    "plt.title('Storage technology capacities')\n",
    "plt.show()\n"
   ]
  },
  {
   "cell_type": "code",
   "execution_count": null,
   "metadata": {},
   "outputs": [],
   "source": [
    "# ELECTRICITY PRODUCTION - HOURLY RESULTS\n",
    "\n",
    "ep = electricity_production.loc[electricity_production['tm'] < 100]\n",
    "#ep['tm'] = ep['tm'].apply(pd.to_numeric)\n",
    "#del ep['ec']\n",
    "ep2 = ep.groupby(['tm','tech']).sum()\n",
    "#ep2 = ep.unstack(level=2)\n",
    "#electricity_production = electricity_production.unstack()\n",
    "#ep2.set_index('tech').T.plot(kind='bar', stacked=True)\n",
    "#ep2 = ep.set_index('tm')\n",
    "#ep2 = ep.set_index('tech')\n",
    "ep2 = ep2.unstack()\n",
    "#print(ep2)\n",
    "ep2.plot(kind='bar', stacked=True)\n",
    "plt.show()\n",
    "\n",
    "#electricity_production.plot.bar(stacked=True);"
   ]
  },
  {
   "cell_type": "code",
   "execution_count": null,
   "metadata": {
    "collapsed": true
   },
   "outputs": [],
   "source": [
    "# HEAT PRODUCTION - HOURLY RESULTS\n"
   ]
  },
  {
   "cell_type": "code",
   "execution_count": null,
   "metadata": {
    "collapsed": true
   },
   "outputs": [],
   "source": [
    "# ELECTRICITY PRODUCTION - AGGREGATED WEEKLY RESULTS\n"
   ]
  },
  {
   "cell_type": "code",
   "execution_count": null,
   "metadata": {
    "collapsed": true
   },
   "outputs": [],
   "source": [
    "# HEAT PRODUCTION - AGGREGATED WEEKLY RESULTS\n"
   ]
  }
 ],
 "metadata": {
  "kernelspec": {
   "display_name": "Python 3",
   "language": "python",
   "name": "python3"
  },
  "language_info": {
   "codemirror_mode": {
    "name": "ipython",
    "version": 3
   },
   "file_extension": ".py",
   "mimetype": "text/x-python",
   "name": "python",
   "nbconvert_exporter": "python",
   "pygments_lexer": "ipython3",
   "version": "3.6.1"
  }
 },
 "nbformat": 4,
 "nbformat_minor": 2
}
